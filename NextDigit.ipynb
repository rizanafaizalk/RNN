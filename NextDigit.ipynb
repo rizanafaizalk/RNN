{
 "cells": [
  {
   "cell_type": "code",
   "execution_count": 2,
   "id": "dc6a55bb-704c-442f-ade5-6bb269e0d03a",
   "metadata": {},
   "outputs": [
    {
     "name": "stderr",
     "output_type": "stream",
     "text": [
      "/Users/apple/Library/Python/3.9/lib/python/site-packages/urllib3/__init__.py:34: NotOpenSSLWarning: urllib3 v2 only supports OpenSSL 1.1.1+, currently the 'ssl' module is compiled with 'LibreSSL 2.8.3'. See: https://github.com/urllib3/urllib3/issues/3020\n",
      "  warnings.warn(\n"
     ]
    }
   ],
   "source": [
    "from keras.models import Sequential\n",
    "from keras.layers import Dense\n",
    "from keras.layers import LSTM\n",
    "from sklearn.model_selection import train_test_split\n",
    "import numpy as np\n",
    "import matplotlib.pyplot as plt"
   ]
  },
  {
   "cell_type": "code",
   "execution_count": 3,
   "id": "1084834a-c9af-4318-a880-b40602edd46e",
   "metadata": {},
   "outputs": [],
   "source": [
    "#Data preperation"
   ]
  },
  {
   "cell_type": "code",
   "execution_count": 4,
   "id": "458532b4-9601-45cf-801e-041b5f17ceb7",
   "metadata": {},
   "outputs": [],
   "source": [
    "data = [[[i+j]for i in range(5)] for j in range(100)]\n",
    "target = [(i+5) for i in range(100)]"
   ]
  },
  {
   "cell_type": "code",
   "execution_count": 5,
   "id": "6fa31571-e8ad-4759-af66-87e5b8bb8530",
   "metadata": {},
   "outputs": [],
   "source": [
    "data = np.array(data,dtype=float)\n",
    "target = np.array(target,dtype=float)\n"
   ]
  },
  {
   "cell_type": "code",
   "execution_count": 6,
   "id": "dee23c23-75ae-4512-b147-77694dd57ec6",
   "metadata": {},
   "outputs": [
    {
     "data": {
      "text/plain": [
       "(100, 5, 1)"
      ]
     },
     "execution_count": 6,
     "metadata": {},
     "output_type": "execute_result"
    }
   ],
   "source": [
    "data.shape"
   ]
  },
  {
   "cell_type": "code",
   "execution_count": 7,
   "id": "1896ac83-3233-493a-a9a0-11e584e9979f",
   "metadata": {},
   "outputs": [
    {
     "data": {
      "text/plain": [
       "(100,)"
      ]
     },
     "execution_count": 7,
     "metadata": {},
     "output_type": "execute_result"
    }
   ],
   "source": [
    "target.shape"
   ]
  },
  {
   "cell_type": "code",
   "execution_count": 8,
   "id": "0119fb5e-52ef-458c-9c7f-4797592e93d7",
   "metadata": {},
   "outputs": [],
   "source": [
    "x_train,x_test,y_train,y_test = train_test_split(data,target,test_size=0.2,random_state=4)"
   ]
  },
  {
   "cell_type": "code",
   "execution_count": 9,
   "id": "210a05fb-ad92-4c02-abe1-70b23f1d49aa",
   "metadata": {},
   "outputs": [],
   "source": [
    "#RNN model"
   ]
  },
  {
   "cell_type": "code",
   "execution_count": 14,
   "id": "e97b473b-246f-466b-be9a-6572e654e462",
   "metadata": {},
   "outputs": [],
   "source": [
    "model = Sequential()"
   ]
  },
  {
   "cell_type": "code",
   "execution_count": 25,
   "id": "59baf66e-d40f-4c7c-adec-7b009835a7c7",
   "metadata": {},
   "outputs": [],
   "source": [
    "\n",
    "model.add(LSTM((1),batch_input_shape=(None,5,1),return_sequences=False))"
   ]
  },
  {
   "cell_type": "code",
   "execution_count": 26,
   "id": "2ec86035-5aa3-492f-abc6-1a96ac828f47",
   "metadata": {},
   "outputs": [],
   "source": [
    "model.compile(loss='mean_absolute_error',optimizer='adam',metrics=['accuracy'])"
   ]
  },
  {
   "cell_type": "code",
   "execution_count": 27,
   "id": "f36b7e78-b70a-4b20-9137-72bdfab7f990",
   "metadata": {},
   "outputs": [
    {
     "name": "stdout",
     "output_type": "stream",
     "text": [
      "Model: \"sequential_4\"\n",
      "_________________________________________________________________\n",
      " Layer (type)                Output Shape              Param #   \n",
      "=================================================================\n",
      " lstm (LSTM)                 (None, 5, 1)              12        \n",
      "                                                                 \n",
      " lstm_1 (LSTM)               (None, 1)                 12        \n",
      "                                                                 \n",
      "=================================================================\n",
      "Total params: 24 (96.00 Byte)\n",
      "Trainable params: 24 (96.00 Byte)\n",
      "Non-trainable params: 0 (0.00 Byte)\n",
      "_________________________________________________________________\n"
     ]
    }
   ],
   "source": [
    "model.summary()"
   ]
  },
  {
   "cell_type": "code",
   "execution_count": 28,
   "id": "dcac445c-ec5c-4fa7-9609-9d8165e78db4",
   "metadata": {},
   "outputs": [
    {
     "name": "stdout",
     "output_type": "stream",
     "text": [
      "Epoch 1/50\n",
      "3/3 [==============================] - 1s 109ms/step - loss: 56.6863 - accuracy: 0.0000e+00 - val_loss: 45.7471 - val_accuracy: 0.0000e+00\n",
      "Epoch 2/50\n",
      "3/3 [==============================] - 0s 6ms/step - loss: 56.6840 - accuracy: 0.0000e+00 - val_loss: 45.7448 - val_accuracy: 0.0000e+00\n",
      "Epoch 3/50\n",
      "3/3 [==============================] - 0s 5ms/step - loss: 56.6817 - accuracy: 0.0000e+00 - val_loss: 45.7425 - val_accuracy: 0.0000e+00\n",
      "Epoch 4/50\n",
      "3/3 [==============================] - 0s 6ms/step - loss: 56.6794 - accuracy: 0.0000e+00 - val_loss: 45.7401 - val_accuracy: 0.0000e+00\n",
      "Epoch 5/50\n",
      "3/3 [==============================] - 0s 6ms/step - loss: 56.6770 - accuracy: 0.0000e+00 - val_loss: 45.7377 - val_accuracy: 0.0000e+00\n",
      "Epoch 6/50\n",
      "3/3 [==============================] - 0s 6ms/step - loss: 56.6746 - accuracy: 0.0000e+00 - val_loss: 45.7352 - val_accuracy: 0.0000e+00\n",
      "Epoch 7/50\n",
      "3/3 [==============================] - 0s 6ms/step - loss: 56.6721 - accuracy: 0.0000e+00 - val_loss: 45.7327 - val_accuracy: 0.0000e+00\n",
      "Epoch 8/50\n",
      "3/3 [==============================] - 0s 6ms/step - loss: 56.6696 - accuracy: 0.0000e+00 - val_loss: 45.7302 - val_accuracy: 0.0000e+00\n",
      "Epoch 9/50\n",
      "3/3 [==============================] - 0s 5ms/step - loss: 56.6671 - accuracy: 0.0000e+00 - val_loss: 45.7277 - val_accuracy: 0.0000e+00\n",
      "Epoch 10/50\n",
      "3/3 [==============================] - 0s 5ms/step - loss: 56.6645 - accuracy: 0.0000e+00 - val_loss: 45.7251 - val_accuracy: 0.0000e+00\n",
      "Epoch 11/50\n",
      "3/3 [==============================] - 0s 6ms/step - loss: 56.6619 - accuracy: 0.0000e+00 - val_loss: 45.7224 - val_accuracy: 0.0000e+00\n",
      "Epoch 12/50\n",
      "3/3 [==============================] - 0s 6ms/step - loss: 56.6592 - accuracy: 0.0000e+00 - val_loss: 45.7197 - val_accuracy: 0.0000e+00\n",
      "Epoch 13/50\n",
      "3/3 [==============================] - 0s 6ms/step - loss: 56.6565 - accuracy: 0.0000e+00 - val_loss: 45.7169 - val_accuracy: 0.0000e+00\n",
      "Epoch 14/50\n",
      "3/3 [==============================] - 0s 6ms/step - loss: 56.6537 - accuracy: 0.0000e+00 - val_loss: 45.7141 - val_accuracy: 0.0000e+00\n",
      "Epoch 15/50\n",
      "3/3 [==============================] - 0s 5ms/step - loss: 56.6509 - accuracy: 0.0000e+00 - val_loss: 45.7113 - val_accuracy: 0.0000e+00\n",
      "Epoch 16/50\n",
      "3/3 [==============================] - 0s 5ms/step - loss: 56.6480 - accuracy: 0.0000e+00 - val_loss: 45.7084 - val_accuracy: 0.0000e+00\n",
      "Epoch 17/50\n",
      "3/3 [==============================] - 0s 6ms/step - loss: 56.6451 - accuracy: 0.0000e+00 - val_loss: 45.7054 - val_accuracy: 0.0000e+00\n",
      "Epoch 18/50\n",
      "3/3 [==============================] - 0s 6ms/step - loss: 56.6421 - accuracy: 0.0000e+00 - val_loss: 45.7023 - val_accuracy: 0.0000e+00\n",
      "Epoch 19/50\n",
      "3/3 [==============================] - 0s 6ms/step - loss: 56.6391 - accuracy: 0.0000e+00 - val_loss: 45.6992 - val_accuracy: 0.0000e+00\n",
      "Epoch 20/50\n",
      "3/3 [==============================] - 0s 6ms/step - loss: 56.6359 - accuracy: 0.0000e+00 - val_loss: 45.6961 - val_accuracy: 0.0000e+00\n",
      "Epoch 21/50\n",
      "3/3 [==============================] - 0s 5ms/step - loss: 56.6328 - accuracy: 0.0000e+00 - val_loss: 45.6928 - val_accuracy: 0.0000e+00\n",
      "Epoch 22/50\n",
      "3/3 [==============================] - 0s 5ms/step - loss: 56.6295 - accuracy: 0.0000e+00 - val_loss: 45.6896 - val_accuracy: 0.0000e+00\n",
      "Epoch 23/50\n",
      "3/3 [==============================] - 0s 6ms/step - loss: 56.6262 - accuracy: 0.0000e+00 - val_loss: 45.6862 - val_accuracy: 0.0000e+00\n",
      "Epoch 24/50\n",
      "3/3 [==============================] - 0s 6ms/step - loss: 56.6229 - accuracy: 0.0000e+00 - val_loss: 45.6828 - val_accuracy: 0.0000e+00\n",
      "Epoch 25/50\n",
      "3/3 [==============================] - 0s 6ms/step - loss: 56.6194 - accuracy: 0.0000e+00 - val_loss: 45.6792 - val_accuracy: 0.0000e+00\n",
      "Epoch 26/50\n",
      "3/3 [==============================] - 0s 6ms/step - loss: 56.6159 - accuracy: 0.0000e+00 - val_loss: 45.6757 - val_accuracy: 0.0000e+00\n",
      "Epoch 27/50\n",
      "3/3 [==============================] - 0s 5ms/step - loss: 56.6123 - accuracy: 0.0000e+00 - val_loss: 45.6720 - val_accuracy: 0.0000e+00\n",
      "Epoch 28/50\n",
      "3/3 [==============================] - 0s 6ms/step - loss: 56.6086 - accuracy: 0.0000e+00 - val_loss: 45.6683 - val_accuracy: 0.0000e+00\n",
      "Epoch 29/50\n",
      "3/3 [==============================] - 0s 6ms/step - loss: 56.6049 - accuracy: 0.0000e+00 - val_loss: 45.6645 - val_accuracy: 0.0000e+00\n",
      "Epoch 30/50\n",
      "3/3 [==============================] - 0s 6ms/step - loss: 56.6011 - accuracy: 0.0000e+00 - val_loss: 45.6606 - val_accuracy: 0.0000e+00\n",
      "Epoch 31/50\n",
      "3/3 [==============================] - 0s 5ms/step - loss: 56.5971 - accuracy: 0.0000e+00 - val_loss: 45.6567 - val_accuracy: 0.0000e+00\n",
      "Epoch 32/50\n",
      "3/3 [==============================] - 0s 5ms/step - loss: 56.5932 - accuracy: 0.0000e+00 - val_loss: 45.6526 - val_accuracy: 0.0000e+00\n",
      "Epoch 33/50\n",
      "3/3 [==============================] - 0s 5ms/step - loss: 56.5891 - accuracy: 0.0000e+00 - val_loss: 45.6485 - val_accuracy: 0.0000e+00\n",
      "Epoch 34/50\n",
      "3/3 [==============================] - 0s 6ms/step - loss: 56.5850 - accuracy: 0.0000e+00 - val_loss: 45.6443 - val_accuracy: 0.0000e+00\n",
      "Epoch 35/50\n",
      "3/3 [==============================] - 0s 6ms/step - loss: 56.5808 - accuracy: 0.0000e+00 - val_loss: 45.6401 - val_accuracy: 0.0000e+00\n",
      "Epoch 36/50\n",
      "3/3 [==============================] - 0s 6ms/step - loss: 56.5765 - accuracy: 0.0000e+00 - val_loss: 45.6357 - val_accuracy: 0.0000e+00\n",
      "Epoch 37/50\n",
      "3/3 [==============================] - 0s 5ms/step - loss: 56.5721 - accuracy: 0.0000e+00 - val_loss: 45.6313 - val_accuracy: 0.0000e+00\n",
      "Epoch 38/50\n",
      "3/3 [==============================] - 0s 5ms/step - loss: 56.5677 - accuracy: 0.0000e+00 - val_loss: 45.6268 - val_accuracy: 0.0000e+00\n",
      "Epoch 39/50\n",
      "3/3 [==============================] - 0s 5ms/step - loss: 56.5631 - accuracy: 0.0000e+00 - val_loss: 45.6222 - val_accuracy: 0.0000e+00\n",
      "Epoch 40/50\n",
      "3/3 [==============================] - 0s 6ms/step - loss: 56.5585 - accuracy: 0.0000e+00 - val_loss: 45.6175 - val_accuracy: 0.0000e+00\n",
      "Epoch 41/50\n",
      "3/3 [==============================] - 0s 6ms/step - loss: 56.5538 - accuracy: 0.0000e+00 - val_loss: 45.6127 - val_accuracy: 0.0000e+00\n",
      "Epoch 42/50\n",
      "3/3 [==============================] - 0s 6ms/step - loss: 56.5490 - accuracy: 0.0000e+00 - val_loss: 45.6079 - val_accuracy: 0.0000e+00\n",
      "Epoch 43/50\n",
      "3/3 [==============================] - 0s 5ms/step - loss: 56.5441 - accuracy: 0.0000e+00 - val_loss: 45.6029 - val_accuracy: 0.0000e+00\n",
      "Epoch 44/50\n",
      "3/3 [==============================] - 0s 5ms/step - loss: 56.5391 - accuracy: 0.0000e+00 - val_loss: 45.5979 - val_accuracy: 0.0000e+00\n",
      "Epoch 45/50\n",
      "3/3 [==============================] - 0s 6ms/step - loss: 56.5341 - accuracy: 0.0000e+00 - val_loss: 45.5928 - val_accuracy: 0.0000e+00\n",
      "Epoch 46/50\n",
      "3/3 [==============================] - 0s 6ms/step - loss: 56.5289 - accuracy: 0.0000e+00 - val_loss: 45.5877 - val_accuracy: 0.0000e+00\n",
      "Epoch 47/50\n",
      "3/3 [==============================] - 0s 6ms/step - loss: 56.5238 - accuracy: 0.0000e+00 - val_loss: 45.5824 - val_accuracy: 0.0000e+00\n",
      "Epoch 48/50\n",
      "3/3 [==============================] - 0s 5ms/step - loss: 56.5184 - accuracy: 0.0000e+00 - val_loss: 45.5771 - val_accuracy: 0.0000e+00\n",
      "Epoch 49/50\n",
      "3/3 [==============================] - 0s 5ms/step - loss: 56.5131 - accuracy: 0.0000e+00 - val_loss: 45.5717 - val_accuracy: 0.0000e+00\n",
      "Epoch 50/50\n",
      "3/3 [==============================] - 0s 5ms/step - loss: 56.5076 - accuracy: 0.0000e+00 - val_loss: 45.5662 - val_accuracy: 0.0000e+00\n"
     ]
    }
   ],
   "source": [
    "history = model.fit(x_train,y_train,epochs=50,validation_data=(x_test,y_test))"
   ]
  },
  {
   "cell_type": "code",
   "execution_count": 29,
   "id": "8a978bfc-c096-488c-9e92-eaac96472713",
   "metadata": {},
   "outputs": [
    {
     "name": "stdout",
     "output_type": "stream",
     "text": [
      "1/1 [==============================] - 0s 196ms/step\n"
     ]
    }
   ],
   "source": [
    "results = model.predict(x_test)"
   ]
  },
  {
   "cell_type": "code",
   "execution_count": 30,
   "id": "fc2cfc3b-2a86-44fa-8954-de97e85f6d3b",
   "metadata": {},
   "outputs": [
    {
     "data": {
      "image/png": "[encoded data removed]",
      "text/plain": [
       "<Figure size 640x480 with 1 Axes>"
      ]
     },
     "metadata": {},
     "output_type": "display_data"
    }
   ],
   "source": [
    "plt.scatter(range(20),results,c='r')\n",
    "plt.scatter(range(20),y_test,c='g')\n",
    "plt.show()"
   ]
  },
  {
   "cell_type": "code",
   "execution_count": null,
   "id": "9567ca9c-9b1c-4e8c-8ae8-f7b19ba1e0b2",
   "metadata": {},
   "outputs": [],
   "source": []
  }
 ],
 "metadata": {
  "kernelspec": {
   "display_name": "Python 3 (ipykernel)",
   "language": "python",
   "name": "python3"
  },
  "language_info": {
   "codemirror_mode": {
    "name": "ipython",
    "version": 3
   },
   "file_extension": ".py",
   "mimetype": "text/x-python",
   "name": "python",
   "nbconvert_exporter": "python",
   "pygments_lexer": "ipython3",
   "version": "3.9.6"
  }
 },
 "nbformat": 4,
 "nbformat_minor": 5
}
