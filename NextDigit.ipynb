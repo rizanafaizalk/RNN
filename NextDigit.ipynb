{
 "cells": [
  {
   "cell_type": "code",
   "execution_count": 16,
   "id": "dc6a55bb-704c-442f-ade5-6bb269e0d03a",
   "metadata": {},
   "outputs": [],
   "source": [
    "from keras.models import Sequential\n",
    "from keras.layers import Dense\n",
    "from keras.layers import LSTM\n",
    "from sklearn.model_selection import train_test_split\n",
    "import numpy as np\n",
    "import matplotlib.pyplot as plt"
   ]
  },
  {
   "cell_type": "code",
   "execution_count": 17,
   "id": "1084834a-c9af-4318-a880-b40602edd46e",
   "metadata": {},
   "outputs": [],
   "source": [
    "#Data preperation"
   ]
  },
  {
   "cell_type": "code",
   "execution_count": 18,
   "id": "458532b4-9601-45cf-801e-041b5f17ceb7",
   "metadata": {},
   "outputs": [],
   "source": [
    "data = [[[i+j]for i in range(5)] for j in range(100)]\n",
    "target = [(i+5) for i in range(100)]"
   ]
  },
  {
   "cell_type": "code",
   "execution_count": 19,
   "id": "6fa31571-e8ad-4759-af66-87e5b8bb8530",
   "metadata": {},
   "outputs": [],
   "source": [
    "data = np.array(data,dtype=float)\n",
    "target = np.array(target,dtype=float)\n"
   ]
  },
  {
   "cell_type": "code",
   "execution_count": 20,
   "id": "dee23c23-75ae-4512-b147-77694dd57ec6",
   "metadata": {},
   "outputs": [
    {
     "data": {
      "text/plain": [
       "(100, 5, 1)"
      ]
     },
     "execution_count": 20,
     "metadata": {},
     "output_type": "execute_result"
    }
   ],
   "source": [
    "data.shape"
   ]
  },
  {
   "cell_type": "code",
   "execution_count": 21,
   "id": "1896ac83-3233-493a-a9a0-11e584e9979f",
   "metadata": {},
   "outputs": [
    {
     "data": {
      "text/plain": [
       "(100,)"
      ]
     },
     "execution_count": 21,
     "metadata": {},
     "output_type": "execute_result"
    }
   ],
   "source": [
    "target.shape"
   ]
  },
  {
   "cell_type": "code",
   "execution_count": 22,
   "id": "0119fb5e-52ef-458c-9c7f-4797592e93d7",
   "metadata": {},
   "outputs": [],
   "source": [
    "x_train,x_test,y_train,y_test = train_test_split(data,target,test_size=0.2,random_state=4)"
   ]
  },
  {
   "cell_type": "code",
   "execution_count": null,
   "id": "210a05fb-ad92-4c02-abe1-70b23f1d49aa",
   "metadata": {},
   "outputs": [],
   "source": []
  },
  {
   "cell_type": "code",
   "execution_count": null,
   "id": "e97b473b-246f-466b-be9a-6572e654e462",
   "metadata": {},
   "outputs": [],
   "source": []
  },
  {
   "cell_type": "code",
   "execution_count": null,
   "id": "b7d59749-d934-41e3-bc48-0fd2c284dd59",
   "metadata": {},
   "outputs": [],
   "source": []
  }
 ],
 "metadata": {
  "kernelspec": {
   "display_name": "Python 3 (ipykernel)",
   "language": "python",
   "name": "python3"
  },
  "language_info": {
   "codemirror_mode": {
    "name": "ipython",
    "version": 3
   },
   "file_extension": ".py",
   "mimetype": "text/x-python",
   "name": "python",
   "nbconvert_exporter": "python",
   "pygments_lexer": "ipython3",
   "version": "3.9.6"
  }
 },
 "nbformat": 4,
 "nbformat_minor": 5
}
